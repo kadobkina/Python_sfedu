{
  "nbformat": 4,
  "nbformat_minor": 0,
  "metadata": {
    "colab": {
      "provenance": [],
      "collapsed_sections": [],
      "authorship_tag": "ABX9TyNbhw9bLvwgcT0SOUKeWcBk",
      "include_colab_link": true
    },
    "kernelspec": {
      "name": "python3",
      "display_name": "Python 3"
    },
    "language_info": {
      "name": "python"
    }
  },
  "cells": [
    {
      "cell_type": "markdown",
      "metadata": {
        "id": "view-in-github",
        "colab_type": "text"
      },
      "source": [
        "<a href=\"https://colab.research.google.com/github/kadobkina/Python_sfedu/blob/master/%D0%9F%D0%B8%D1%82%D0%BE%D0%BD_%D0%B7%D0%B0%D0%BD%D1%8F%D1%82%D0%B8%D0%B53.ipynb\" target=\"_parent\"><img src=\"https://colab.research.google.com/assets/colab-badge.svg\" alt=\"Open In Colab\"/></a>"
      ]
    },
    {
      "cell_type": "code",
      "execution_count": null,
      "metadata": {
        "id": "TWILrq9mjKpH"
      },
      "outputs": [],
      "source": [
        "import numpy as np"
      ]
    },
    {
      "cell_type": "markdown",
      "source": [
        "\n",
        "\n",
        "---\n",
        "\n",
        "\n",
        "**Создание одномерных массивов (векторов) и двумерных  массивов (матриц)**"
      ],
      "metadata": {
        "id": "EHemKMOe6mfF"
      }
    },
    {
      "cell_type": "code",
      "source": [
        "# 1.Создайте вектор с помощью функции array\n",
        "np.array([1, 2, 3, 0, 3, 2])"
      ],
      "metadata": {
        "colab": {
          "base_uri": "https://localhost:8080/"
        },
        "id": "VOBGSvCAjOfK",
        "outputId": "aa7dcdfe-c04e-4e44-e4f8-3c9a395c3959"
      },
      "execution_count": null,
      "outputs": [
        {
          "output_type": "execute_result",
          "data": {
            "text/plain": [
              "array([1, 2, 3, 0, 3, 2])"
            ]
          },
          "metadata": {},
          "execution_count": 7
        }
      ]
    },
    {
      "cell_type": "code",
      "source": [
        "# 1.Создайте матрицу с помощью функции array\n",
        "np.array([[1, 2, 3], [0, 3, 2]])"
      ],
      "metadata": {
        "colab": {
          "base_uri": "https://localhost:8080/"
        },
        "id": "c1KovPbdjYkm",
        "outputId": "8262e434-2545-4e44-e1f1-842f33fa7d7f"
      },
      "execution_count": null,
      "outputs": [
        {
          "output_type": "execute_result",
          "data": {
            "text/plain": [
              "array([[1, 2, 3],\n",
              "       [0, 3, 2]])"
            ]
          },
          "metadata": {},
          "execution_count": 8
        }
      ]
    },
    {
      "cell_type": "code",
      "source": [
        "# 2.Создайте вектор с помощью функции arange\n",
        "np.arange(0, 12, 2)"
      ],
      "metadata": {
        "colab": {
          "base_uri": "https://localhost:8080/"
        },
        "id": "sYfGs8udjutW",
        "outputId": "fa711186-53ce-4d80-c835-724cf3fe46ea"
      },
      "execution_count": null,
      "outputs": [
        {
          "output_type": "execute_result",
          "data": {
            "text/plain": [
              "array([ 0,  2,  4,  6,  8, 10])"
            ]
          },
          "metadata": {},
          "execution_count": 10
        }
      ]
    },
    {
      "cell_type": "code",
      "source": [
        "# 2.Создайте матрицу с помощью функции arange\n",
        "np.arange(0, 12, 2).reshape((2, 3))"
      ],
      "metadata": {
        "colab": {
          "base_uri": "https://localhost:8080/"
        },
        "id": "-17ghr14j9em",
        "outputId": "4e1b4920-ad89-416a-c15d-09e2944be343"
      },
      "execution_count": null,
      "outputs": [
        {
          "output_type": "execute_result",
          "data": {
            "text/plain": [
              "array([[ 0,  2,  4],\n",
              "       [ 6,  8, 10]])"
            ]
          },
          "metadata": {},
          "execution_count": 12
        }
      ]
    },
    {
      "cell_type": "code",
      "source": [
        "# 3.Создайте вектор с помощью функции linspace\n",
        "np.linspace(0, 9, 6)"
      ],
      "metadata": {
        "colab": {
          "base_uri": "https://localhost:8080/"
        },
        "id": "zZxUu5eukZkR",
        "outputId": "cd0b0947-f466-40fb-c68e-f232c66e35dd"
      },
      "execution_count": null,
      "outputs": [
        {
          "output_type": "execute_result",
          "data": {
            "text/plain": [
              "array([0. , 1.8, 3.6, 5.4, 7.2, 9. ])"
            ]
          },
          "metadata": {},
          "execution_count": 15
        }
      ]
    },
    {
      "cell_type": "code",
      "source": [
        "# 3.Создайте матрицу с помощью функции linspace\n",
        "np.linspace(0, 9, 6).reshape((2, 3))"
      ],
      "metadata": {
        "colab": {
          "base_uri": "https://localhost:8080/"
        },
        "id": "yMbzTD9LkmuD",
        "outputId": "c0d5f76f-5ca9-4655-eb3b-047a494c92dd"
      },
      "execution_count": null,
      "outputs": [
        {
          "output_type": "execute_result",
          "data": {
            "text/plain": [
              "array([[0. , 1.8, 3.6],\n",
              "       [5.4, 7.2, 9. ]])"
            ]
          },
          "metadata": {},
          "execution_count": 16
        }
      ]
    },
    {
      "cell_type": "code",
      "source": [
        "# 4.Создайте вектор с помощью функции zeros\n",
        "np.zeros(6)"
      ],
      "metadata": {
        "colab": {
          "base_uri": "https://localhost:8080/"
        },
        "id": "vKUMq0zykxRV",
        "outputId": "ec605216-917d-4623-aa8f-4dc2d470b392"
      },
      "execution_count": null,
      "outputs": [
        {
          "output_type": "execute_result",
          "data": {
            "text/plain": [
              "array([0., 0., 0., 0., 0., 0.])"
            ]
          },
          "metadata": {},
          "execution_count": 17
        }
      ]
    },
    {
      "cell_type": "code",
      "source": [
        "# 4.Создайте матрицу с помощью функции zeros\n",
        "np.zeros(6).reshape((2, 3))"
      ],
      "metadata": {
        "colab": {
          "base_uri": "https://localhost:8080/"
        },
        "id": "2Popi8mhk4ZL",
        "outputId": "355d0326-81d9-4c3e-8f63-bf32285fa4be"
      },
      "execution_count": null,
      "outputs": [
        {
          "output_type": "execute_result",
          "data": {
            "text/plain": [
              "array([[0., 0., 0.],\n",
              "       [0., 0., 0.]])"
            ]
          },
          "metadata": {},
          "execution_count": 18
        }
      ]
    },
    {
      "cell_type": "code",
      "source": [
        "# 5.Создайте вектор с помощью функции full\n",
        "np.full(10,5)"
      ],
      "metadata": {
        "colab": {
          "base_uri": "https://localhost:8080/"
        },
        "id": "Z9MsHPYuk6zq",
        "outputId": "c1bdc1ef-2f88-4c63-9898-848dcd6204de"
      },
      "execution_count": null,
      "outputs": [
        {
          "output_type": "execute_result",
          "data": {
            "text/plain": [
              "array([5, 5, 5, 5, 5, 5, 5, 5, 5, 5])"
            ]
          },
          "metadata": {},
          "execution_count": 30
        }
      ]
    },
    {
      "cell_type": "code",
      "source": [
        "# 5.Создайте матрицу с помощью функции full\n",
        "np.full((2,4),5)"
      ],
      "metadata": {
        "colab": {
          "base_uri": "https://localhost:8080/"
        },
        "id": "lCv-XsDLlbUX",
        "outputId": "3d8a228c-3808-4492-c34b-24130e1a4e49"
      },
      "execution_count": null,
      "outputs": [
        {
          "output_type": "execute_result",
          "data": {
            "text/plain": [
              "array([[5, 5, 5, 5],\n",
              "       [5, 5, 5, 5]])"
            ]
          },
          "metadata": {},
          "execution_count": 31
        }
      ]
    },
    {
      "cell_type": "markdown",
      "source": [
        "\n",
        "\n",
        "---\n",
        "\n",
        "\n",
        "**Модуль random**\n"
      ],
      "metadata": {
        "id": "Ai87vIPe5NqW"
      }
    },
    {
      "cell_type": "code",
      "source": [
        "# 6.Создайте двумерный массив случайных чисел с помощью randint\n",
        "np.random.randint(-10, 10, (2, 4))"
      ],
      "metadata": {
        "colab": {
          "base_uri": "https://localhost:8080/"
        },
        "id": "QTA1egHAldR2",
        "outputId": "7061fc39-9204-4737-9364-e69981128bb3"
      },
      "execution_count": null,
      "outputs": [
        {
          "output_type": "execute_result",
          "data": {
            "text/plain": [
              "array([[-3,  5,  6,  2],\n",
              "       [-8,  7, -6, -6]])"
            ]
          },
          "metadata": {},
          "execution_count": 32
        }
      ]
    },
    {
      "cell_type": "code",
      "source": [
        "# 7.Создайте двумерный массив случайных чисел с помощью uniform\n",
        "np.random.uniform(-10, 10, (2,4))"
      ],
      "metadata": {
        "colab": {
          "base_uri": "https://localhost:8080/"
        },
        "id": "8otwGsOZmPdi",
        "outputId": "b1b08e0a-6a2a-4cf6-caf7-6ce9c0900694"
      },
      "execution_count": null,
      "outputs": [
        {
          "output_type": "execute_result",
          "data": {
            "text/plain": [
              "array([[-6.49979148, -8.02126602,  4.39904527, -3.45952554],\n",
              "       [-2.18061882,  2.9699496 ,  1.08757919,  2.14502162]])"
            ]
          },
          "metadata": {},
          "execution_count": 33
        }
      ]
    },
    {
      "cell_type": "code",
      "source": [
        "# 8.Создайте двумерный массив случайных чисел с помощью normal\n",
        "a = np.random.normal(0, 2, (2,4))\n",
        "a"
      ],
      "metadata": {
        "colab": {
          "base_uri": "https://localhost:8080/"
        },
        "id": "U4yESc0LmhfJ",
        "outputId": "d31eef00-6b4a-4bc5-d9a6-45a4077a4857"
      },
      "execution_count": null,
      "outputs": [
        {
          "output_type": "execute_result",
          "data": {
            "text/plain": [
              "array([[-1.4398268 ,  2.72896819,  1.41347027,  4.06130191],\n",
              "       [ 2.98012558, -3.81629678,  0.17113133,  0.54545048]])"
            ]
          },
          "metadata": {},
          "execution_count": 55
        }
      ]
    },
    {
      "cell_type": "markdown",
      "source": [
        "\n",
        "\n",
        "---\n",
        "\n",
        "\n",
        "**Атрибуты массивов, операции с векторами**"
      ],
      "metadata": {
        "id": "eJ7fG4HO5Kol"
      }
    },
    {
      "cell_type": "code",
      "source": [
        "# 9.Выдайте на экран информацию о созданном выше массиве: тип (dtype), размерность (ndim, shape), количество элементов (size), itemsize, nbytes\n",
        "print(f'Тип: {a.dtype}')\n",
        "print(f'Размерность: {a.ndim} {a.shape}')\n",
        "print(f'Количество элементов: {a.size}')\n",
        "print(f'Размер одного элемента в байтах: {a.itemsize}')\n",
        "print(f'Размер массива в байтах: {a.nbytes}')"
      ],
      "metadata": {
        "colab": {
          "base_uri": "https://localhost:8080/"
        },
        "id": "-MhP1-sXm_aM",
        "outputId": "e0a5dbf4-2b02-4e38-abf7-8c60c8eff2ed"
      },
      "execution_count": null,
      "outputs": [
        {
          "output_type": "stream",
          "name": "stdout",
          "text": [
            "Тип: float64\n",
            "Размерность: 2 (2, 4)\n",
            "Количество элементов: 8\n",
            "Размер одного элемента в байтах: 8\n",
            "Размер массива в байтах: 64\n"
          ]
        }
      ]
    },
    {
      "cell_type": "code",
      "source": [
        "# 10.С помощью срезов выделите несколько элементов в массиве и поменяйте их значения\n",
        "a[:, ::2]=0\n",
        "a"
      ],
      "metadata": {
        "colab": {
          "base_uri": "https://localhost:8080/"
        },
        "id": "oC94BVVln18l",
        "outputId": "b70ed936-9439-4fca-af69-7ad87e1809a6"
      },
      "execution_count": null,
      "outputs": [
        {
          "output_type": "execute_result",
          "data": {
            "text/plain": [
              "array([[ 0.        ,  2.72896819,  0.        ,  4.06130191],\n",
              "       [ 0.        , -3.81629678,  0.        ,  0.54545048]])"
            ]
          },
          "metadata": {},
          "execution_count": 56
        }
      ]
    },
    {
      "cell_type": "code",
      "source": [
        "z = np.array([1, 2, 3, 4])\n",
        "z"
      ],
      "metadata": {
        "colab": {
          "base_uri": "https://localhost:8080/"
        },
        "id": "g5eFL6b-tQVu",
        "outputId": "c8fa9507-d171-4e0f-9b51-d9b2e9a5b161"
      },
      "execution_count": null,
      "outputs": [
        {
          "output_type": "execute_result",
          "data": {
            "text/plain": [
              "array([1, 2, 3, 4])"
            ]
          },
          "metadata": {},
          "execution_count": 78
        }
      ]
    },
    {
      "cell_type": "code",
      "source": [
        "v = np.array([2, 4, 6, 9])\n",
        "v"
      ],
      "metadata": {
        "colab": {
          "base_uri": "https://localhost:8080/"
        },
        "id": "CVZhpy3uuT0V",
        "outputId": "987646b2-9123-49f3-cbb0-acb44e96a8b7"
      },
      "execution_count": null,
      "outputs": [
        {
          "output_type": "execute_result",
          "data": {
            "text/plain": [
              "array([2, 4, 6, 9])"
            ]
          },
          "metadata": {},
          "execution_count": 93
        }
      ]
    },
    {
      "cell_type": "code",
      "source": [
        "# 11.Найти результаты арифметических операций для 2 массивов (или числа и массива). \n",
        "# Используйте операции или функции numpy(т.е., например, “+” или “np.add”). Вычислите еще любые две функции от массивов.\n",
        "print(f'z add 5:\\n {np.add(z,5)}\\n')\n",
        "print(f'z + 5:\\n {z+5}\\n')\n",
        "print(f'z add v:\\n {np.add(z,v)}\\n')\n",
        "print(f'z + v:\\n {z+v}\\n')\n",
        "print(f'z subtract 3:\\n {np.subtract(z,3)}\\n')\n",
        "print(f'z-3:\\n {z-3}\\n')\n",
        "print(f'z-v:\\n {z-v}\\n')\n",
        "print(f'z multiply 2:\\n {np.multiply(z,2)}\\n')\n",
        "print(f'z*2:\\n {z*2}\\n')\n",
        "print(f'z*v:\\n {z*v}\\n')"
      ],
      "metadata": {
        "colab": {
          "base_uri": "https://localhost:8080/"
        },
        "id": "YqYKQgtgogDW",
        "outputId": "7eba4e6d-ef79-4061-c10f-e83610e9aa24"
      },
      "execution_count": null,
      "outputs": [
        {
          "output_type": "stream",
          "name": "stdout",
          "text": [
            "z add 5:\n",
            " [6 7 8 9]\n",
            "\n",
            "z + 5:\n",
            " [6 7 8 9]\n",
            "\n",
            "z add v:\n",
            " [ 3  6  9 13]\n",
            "\n",
            "z + v:\n",
            " [ 3  6  9 13]\n",
            "\n",
            "z subtract 3:\n",
            " [-2 -1  0  1]\n",
            "\n",
            "z-3:\n",
            " [-2 -1  0  1]\n",
            "\n",
            "z-v:\n",
            " [-1 -2 -3 -5]\n",
            "\n",
            "z multiply 2:\n",
            " [2 4 6 8]\n",
            "\n",
            "z*2:\n",
            " [2 4 6 8]\n",
            "\n",
            "z*v:\n",
            " [ 2  8 18 36]\n",
            "\n"
          ]
        }
      ]
    },
    {
      "cell_type": "markdown",
      "source": [
        "\n",
        "\n",
        "---\n",
        "\n",
        "\n",
        "**Расстояние, норма и скалярное произведение**"
      ],
      "metadata": {
        "id": "WyHb2lXd5GWs"
      }
    },
    {
      "cell_type": "code",
      "source": [
        "# 18.Вычислите скалярное произведение двух векторов\n",
        "np.dot(z,v)"
      ],
      "metadata": {
        "colab": {
          "base_uri": "https://localhost:8080/"
        },
        "id": "bKTsaysvuj5x",
        "outputId": "2bbe7df6-af83-43b8-9ac2-1b1e6a847085"
      },
      "execution_count": null,
      "outputs": [
        {
          "output_type": "execute_result",
          "data": {
            "text/plain": [
              "64"
            ]
          },
          "metadata": {},
          "execution_count": 96
        }
      ]
    },
    {
      "cell_type": "markdown",
      "source": [
        "\n",
        "\n",
        "---\n",
        "\n",
        "\n",
        "**Определение матрицы и операции с матрицами**"
      ],
      "metadata": {
        "id": "wb6CpnYY5ARq"
      }
    },
    {
      "cell_type": "code",
      "source": [
        "x = np.array([[1, 2], [2, 1]])\n",
        "x"
      ],
      "metadata": {
        "colab": {
          "base_uri": "https://localhost:8080/"
        },
        "id": "5H4L53R9rH6s",
        "outputId": "cf75ef20-6fd2-40e1-a0f0-f05a734d27c1"
      },
      "execution_count": null,
      "outputs": [
        {
          "output_type": "execute_result",
          "data": {
            "text/plain": [
              "array([[1, 2],\n",
              "       [2, 1]])"
            ]
          },
          "metadata": {},
          "execution_count": 76
        }
      ]
    },
    {
      "cell_type": "code",
      "source": [
        "y = np.array([[6, 5], [5, 6]])\n",
        "y"
      ],
      "metadata": {
        "colab": {
          "base_uri": "https://localhost:8080/"
        },
        "id": "qIQBzwHXtQFV",
        "outputId": "81fe5faf-2b2a-4d54-c72a-9b8b66a0a805"
      },
      "execution_count": null,
      "outputs": [
        {
          "output_type": "execute_result",
          "data": {
            "text/plain": [
              "array([[6, 5],\n",
              "       [5, 6]])"
            ]
          },
          "metadata": {},
          "execution_count": 77
        }
      ]
    },
    {
      "cell_type": "code",
      "source": [
        "# 19.Создайте 2 матрицы одинакового размера. Найти результаты арифметических операций для 2 матриц. \n",
        "# Кроме поэлементного умножения “*”, вычислите еще произведение матриц спомощью функции “np.dot”.\n",
        "print(f'x add y :\\n {np.add(x,y)}\\n')\n",
        "print(f'x + y:\\n {x+y}\\n')\n",
        "print(f'x dot y:\\n {np.dot(x,y)}\\n')\n",
        "print(f'x * y:\\n {x*y}\\n')\n",
        "print(f'x vstack y:\\n {np.vstack((x, y))}\\n')"
      ],
      "metadata": {
        "colab": {
          "base_uri": "https://localhost:8080/"
        },
        "id": "rni4jaZ1vqTl",
        "outputId": "d113579a-2b67-4d35-c47e-7706bff6b632"
      },
      "execution_count": null,
      "outputs": [
        {
          "output_type": "stream",
          "name": "stdout",
          "text": [
            "x add y :\n",
            " [[7 7]\n",
            " [7 7]]\n",
            "\n",
            "x + y:\n",
            " [[7 7]\n",
            " [7 7]]\n",
            "\n",
            "x dot y:\n",
            " [[16 17]\n",
            " [17 16]]\n",
            "\n",
            "x * y:\n",
            " [[ 6 10]\n",
            " [10  6]]\n",
            "\n",
            "x vstack y:\n",
            " [[1 2]\n",
            " [2 1]\n",
            " [6 5]\n",
            " [5 6]]\n",
            "\n"
          ]
        }
      ]
    },
    {
      "cell_type": "code",
      "source": [
        "# 20.Найдите определитель квадратной матрицы\n",
        "np.linalg.det(y)"
      ],
      "metadata": {
        "colab": {
          "base_uri": "https://localhost:8080/"
        },
        "id": "miKRBq0qxwMw",
        "outputId": "f459f953-d06d-47fa-d5a9-0d25c85815b7"
      },
      "execution_count": null,
      "outputs": [
        {
          "output_type": "execute_result",
          "data": {
            "text/plain": [
              "11.000000000000002"
            ]
          },
          "metadata": {},
          "execution_count": 103
        }
      ]
    },
    {
      "cell_type": "code",
      "source": [
        "# 21.Найдите собственные значения квадратной матрицы\n",
        "np.linalg.eigvals(x)"
      ],
      "metadata": {
        "colab": {
          "base_uri": "https://localhost:8080/"
        },
        "id": "wKIuaK2hyDGt",
        "outputId": "4977fde0-c3a8-40a0-d237-c63e9216c602"
      },
      "execution_count": null,
      "outputs": [
        {
          "output_type": "execute_result",
          "data": {
            "text/plain": [
              "array([ 3., -1.])"
            ]
          },
          "metadata": {},
          "execution_count": 109
        }
      ]
    },
    {
      "cell_type": "code",
      "source": [
        "# 22.Найдите собственные значения и собственные вектора квадратной матрицы\n",
        "np.linalg.eigh(x)"
      ],
      "metadata": {
        "colab": {
          "base_uri": "https://localhost:8080/"
        },
        "id": "ETowzBrdyYgS",
        "outputId": "805a99a9-081e-45bc-fc48-bad4e5720973"
      },
      "execution_count": null,
      "outputs": [
        {
          "output_type": "execute_result",
          "data": {
            "text/plain": [
              "(array([-1.,  3.]), array([[-0.70710678,  0.70710678],\n",
              "        [ 0.70710678,  0.70710678]]))"
            ]
          },
          "metadata": {},
          "execution_count": 110
        }
      ]
    },
    {
      "cell_type": "code",
      "source": [
        "# 23.Найдите обратную матрицу к квадратной матрице\n",
        "np.linalg.inv(x)"
      ],
      "metadata": {
        "colab": {
          "base_uri": "https://localhost:8080/"
        },
        "id": "epwlosRDypSU",
        "outputId": "94d29e98-4106-4373-a153-c28e1be6fe11"
      },
      "execution_count": null,
      "outputs": [
        {
          "output_type": "execute_result",
          "data": {
            "text/plain": [
              "array([[-0.33333333,  0.66666667],\n",
              "       [ 0.66666667, -0.33333333]])"
            ]
          },
          "metadata": {},
          "execution_count": 111
        }
      ]
    },
    {
      "cell_type": "code",
      "source": [
        "# 24.Найдите норму квадратной матрицы\n",
        "np.linalg.norm(x)"
      ],
      "metadata": {
        "colab": {
          "base_uri": "https://localhost:8080/"
        },
        "id": "ILEM0SWSy4qH",
        "outputId": "3b26753e-b6e2-44a2-f0a4-19158cca40ce"
      },
      "execution_count": null,
      "outputs": [
        {
          "output_type": "execute_result",
          "data": {
            "text/plain": [
              "3.1622776601683795"
            ]
          },
          "metadata": {},
          "execution_count": 112
        }
      ]
    },
    {
      "cell_type": "markdown",
      "source": [
        "\n",
        "\n",
        "---\n",
        "\n",
        "\n",
        "**Агрегирование.**\n",
        "Определите произвольный массив. Найдите для него следующие величины (можно по одной из осей или для всего массива):"
      ],
      "metadata": {
        "id": "j5h-x14647F4"
      }
    },
    {
      "cell_type": "code",
      "source": [
        "r = np.random.randint(-10, 10, 5)\n",
        "r"
      ],
      "metadata": {
        "colab": {
          "base_uri": "https://localhost:8080/"
        },
        "id": "NQDmgHOJzByt",
        "outputId": "ebe010b5-ff71-4c19-9fe7-0103dcc462ba"
      },
      "execution_count": null,
      "outputs": [
        {
          "output_type": "execute_result",
          "data": {
            "text/plain": [
              "array([ 5, -9, -8,  2, -4])"
            ]
          },
          "metadata": {},
          "execution_count": 114
        }
      ]
    },
    {
      "cell_type": "code",
      "source": [
        "# 25.Сумму, среднее и минимальное значения\n",
        "print(f'Сумма = {np.sum(r)}')\n",
        "print(f'Среднее = {np.mean(r)}')\n",
        "print(f'Минимальное = {np.min(r)}')"
      ],
      "metadata": {
        "colab": {
          "base_uri": "https://localhost:8080/"
        },
        "id": "_2qRX-XWzOz1",
        "outputId": "c8a20321-1b35-461b-9ef1-4c8011efe5d1"
      },
      "execution_count": null,
      "outputs": [
        {
          "output_type": "stream",
          "name": "stdout",
          "text": [
            "Сумма = -14\n",
            "Сумма = -2.8\n",
            "Сумма = -9\n"
          ]
        }
      ]
    },
    {
      "cell_type": "code",
      "source": [
        "# 26.Произведение, стандартное отклонение и индекс минимального значения\n",
        "print(f'Произведение = {np.prod(r)}')\n",
        "print(f'Стандартное отклонение = {np.std(r)}')\n",
        "print(f'Индекс минимального значения = {np.argmin(r)}')"
      ],
      "metadata": {
        "colab": {
          "base_uri": "https://localhost:8080/"
        },
        "id": "5zQ2Xbg9zgAw",
        "outputId": "ae3bd9cf-0455-412c-892d-9d923b946877"
      },
      "execution_count": null,
      "outputs": [
        {
          "output_type": "stream",
          "name": "stdout",
          "text": [
            "Произведение = -2880\n",
            "Стандартное отклонение = 5.491812087098393\n",
            "Индекс минимального значения = 1\n"
          ]
        }
      ]
    },
    {
      "cell_type": "code",
      "source": [
        "# 27.Среднее значение, дисперсию и медиану\n",
        "print(f'Среднее = {np.mean(r)}')\n",
        "print(f'Дисперсия = {np.var(r)}')\n",
        "print(f'Медиана = {np.median(r)}')"
      ],
      "metadata": {
        "colab": {
          "base_uri": "https://localhost:8080/"
        },
        "id": "1J3nVqXHzu2W",
        "outputId": "81f869d1-8d97-428f-d81d-c584d0509c43"
      },
      "execution_count": null,
      "outputs": [
        {
          "output_type": "stream",
          "name": "stdout",
          "text": [
            "Среднее = -2.8\n",
            "Дисперсия = 30.160000000000004\n",
            "Медиана = -4.0\n"
          ]
        }
      ]
    },
    {
      "cell_type": "markdown",
      "source": [
        "\n",
        "\n",
        "---\n",
        "\n",
        "\n",
        "**Сравнения, маски и булева логика**\n",
        "Определите произвольный массив.\n",
        "\n"
      ],
      "metadata": {
        "id": "_SJqLdJE4i3n"
      }
    },
    {
      "cell_type": "markdown",
      "source": [
        "Определите произвольный массив."
      ],
      "metadata": {
        "id": "Spa48d7w4kLp"
      }
    },
    {
      "cell_type": "code",
      "source": [
        "# 28.Найдите количество элементов из промежутка [–5, 5]\n",
        "np.size(r[(r < 5) & (r >= -5)])"
      ],
      "metadata": {
        "colab": {
          "base_uri": "https://localhost:8080/"
        },
        "id": "LS58kNXT0A3f",
        "outputId": "07815f64-14f2-4925-98d0-ad229bfcc241"
      },
      "execution_count": null,
      "outputs": [
        {
          "output_type": "execute_result",
          "data": {
            "text/plain": [
              "2"
            ]
          },
          "metadata": {},
          "execution_count": 141
        }
      ]
    },
    {
      "cell_type": "code",
      "source": [
        "# 29.Определите, есть ли среди его элементов числа большие 100\n",
        "np.any(r>100)"
      ],
      "metadata": {
        "colab": {
          "base_uri": "https://localhost:8080/"
        },
        "id": "zQ9eNKUB1il4",
        "outputId": "4afe035f-33a7-4c25-d787-ce30bbc8e4ec"
      },
      "execution_count": null,
      "outputs": [
        {
          "output_type": "execute_result",
          "data": {
            "text/plain": [
              "False"
            ]
          },
          "metadata": {},
          "execution_count": 142
        }
      ]
    },
    {
      "cell_type": "code",
      "source": [
        "# 30.Определите, все ли они положительные\n",
        "np.all(r>0)"
      ],
      "metadata": {
        "colab": {
          "base_uri": "https://localhost:8080/"
        },
        "id": "OXRGGGZx3q6I",
        "outputId": "446a45bf-fbfe-43b9-ebea-0688bc9d3b77"
      },
      "execution_count": null,
      "outputs": [
        {
          "output_type": "execute_result",
          "data": {
            "text/plain": [
              "False"
            ]
          },
          "metadata": {},
          "execution_count": 143
        }
      ]
    },
    {
      "cell_type": "code",
      "source": [
        "# 31.Выбрать из массива все элементы из промежутка [0, 10]\n",
        "r[(r < 10) & (r >= 0)]"
      ],
      "metadata": {
        "colab": {
          "base_uri": "https://localhost:8080/"
        },
        "id": "lMXAbvhe33CG",
        "outputId": "724a88b1-f1fb-46c3-f2cf-181f4d41ba26"
      },
      "execution_count": null,
      "outputs": [
        {
          "output_type": "execute_result",
          "data": {
            "text/plain": [
              "array([5, 2])"
            ]
          },
          "metadata": {},
          "execution_count": 144
        }
      ]
    },
    {
      "cell_type": "code",
      "source": [
        "# 32.Заменить в массиве все отрицательные элементы на 0\n",
        "r[r<0] = 0\n",
        "r"
      ],
      "metadata": {
        "colab": {
          "base_uri": "https://localhost:8080/"
        },
        "id": "d8-GNx1J4KXx",
        "outputId": "7cfdc9dc-e929-4512-a270-e643d056d7bc"
      },
      "execution_count": null,
      "outputs": [
        {
          "output_type": "execute_result",
          "data": {
            "text/plain": [
              "array([5, 0, 0, 2, 0])"
            ]
          },
          "metadata": {},
          "execution_count": 145
        }
      ]
    },
    {
      "cell_type": "markdown",
      "source": [
        "\n",
        "\n",
        "---\n",
        "\n",
        "\n",
        "**Добавление столбца в матрицу**"
      ],
      "metadata": {
        "id": "6Ktsxq9e4gRl"
      }
    },
    {
      "cell_type": "markdown",
      "source": [
        "Определите произвольную матрицу. Измерьте время работы кода для больших матриц (1000,  10000 и т.д. строк). \n",
        "Сделайте это же задание, используя стандартные средства Python, сравните время работы. "
      ],
      "metadata": {
        "id": "DuNiNTg54ZvO"
      }
    },
    {
      "cell_type": "code",
      "source": [
        "import time"
      ],
      "metadata": {
        "id": "j8e-Y1U7ANiz"
      },
      "execution_count": null,
      "outputs": []
    },
    {
      "cell_type": "markdown",
      "source": [
        "Numpy - 1000 элементов"
      ],
      "metadata": {
        "id": "WxUjxA9oAnDu"
      }
    },
    {
      "cell_type": "code",
      "source": [
        "start_time = time.time()"
      ],
      "metadata": {
        "id": "jKs5NKyhAO79"
      },
      "execution_count": null,
      "outputs": []
    },
    {
      "cell_type": "code",
      "source": [
        "rr = np.random.randint(0, 10, (1000, 1000))\n",
        "rr"
      ],
      "metadata": {
        "colab": {
          "base_uri": "https://localhost:8080/"
        },
        "id": "FgKCBB5C8WaV",
        "outputId": "f4b76475-5e7b-4c8e-9829-bd0ccb84eeb5"
      },
      "execution_count": null,
      "outputs": [
        {
          "output_type": "execute_result",
          "data": {
            "text/plain": [
              "array([[4, 8, 2, ..., 3, 3, 0],\n",
              "       [5, 5, 0, ..., 5, 6, 5],\n",
              "       [4, 6, 5, ..., 4, 8, 1],\n",
              "       ...,\n",
              "       [4, 7, 2, ..., 0, 6, 5],\n",
              "       [1, 7, 4, ..., 5, 5, 4],\n",
              "       [1, 5, 5, ..., 1, 2, 2]])"
            ]
          },
          "metadata": {},
          "execution_count": 182
        }
      ]
    },
    {
      "cell_type": "code",
      "source": [
        "# 33.Посчитайте среднее значение в ее первом столбце. И добавьте в конец матрицы новый столбец из этих средних значений\n",
        "rr_mean = np.mean(rr[:,:1])\n",
        "rr_mean"
      ],
      "metadata": {
        "colab": {
          "base_uri": "https://localhost:8080/"
        },
        "id": "I9gD9kKs4S1x",
        "outputId": "da9721a2-37f3-495b-e4c2-9e024f4d5689"
      },
      "execution_count": null,
      "outputs": [
        {
          "output_type": "execute_result",
          "data": {
            "text/plain": [
              "4.66"
            ]
          },
          "metadata": {},
          "execution_count": 183
        }
      ]
    },
    {
      "cell_type": "code",
      "source": [
        "temp = np.full((1,1000), rr_mean)\n",
        "new_rr = np.c_[rr,temp.T]\n",
        "new_rr"
      ],
      "metadata": {
        "colab": {
          "base_uri": "https://localhost:8080/"
        },
        "id": "DEPHaffi9_7d",
        "outputId": "df92cb96-f151-4457-bf02-3b60fd5b068e"
      },
      "execution_count": null,
      "outputs": [
        {
          "output_type": "execute_result",
          "data": {
            "text/plain": [
              "array([[4.  , 8.  , 2.  , ..., 3.  , 0.  , 4.66],\n",
              "       [5.  , 5.  , 0.  , ..., 6.  , 5.  , 4.66],\n",
              "       [4.  , 6.  , 5.  , ..., 8.  , 1.  , 4.66],\n",
              "       ...,\n",
              "       [4.  , 7.  , 2.  , ..., 6.  , 5.  , 4.66],\n",
              "       [1.  , 7.  , 4.  , ..., 5.  , 4.  , 4.66],\n",
              "       [1.  , 5.  , 5.  , ..., 2.  , 2.  , 4.66]])"
            ]
          },
          "metadata": {},
          "execution_count": 184
        }
      ]
    },
    {
      "cell_type": "code",
      "source": [
        "print(\"--- %s seconds with Numpy (1000) ---\" % (time.time() - start_time))"
      ],
      "metadata": {
        "colab": {
          "base_uri": "https://localhost:8080/"
        },
        "id": "ApHr9UuWASCE",
        "outputId": "91938845-626d-45d2-d1b8-423743d9fa05"
      },
      "execution_count": null,
      "outputs": [
        {
          "output_type": "stream",
          "name": "stdout",
          "text": [
            "--- 0.07608366012573242 seconds with Numpy (1000) ---\n"
          ]
        }
      ]
    },
    {
      "cell_type": "markdown",
      "source": [
        "\n",
        "\n",
        "---\n",
        "\n",
        "\n",
        "Numpy - 10000 элементов"
      ],
      "metadata": {
        "id": "juoH7tWnAr10"
      }
    },
    {
      "cell_type": "code",
      "source": [
        "start_time = time.time()"
      ],
      "metadata": {
        "id": "rLD2qKqqAfME"
      },
      "execution_count": null,
      "outputs": []
    },
    {
      "cell_type": "code",
      "source": [
        "rr = np.random.randint(0, 10, (10000, 10000))\n",
        "rr"
      ],
      "metadata": {
        "colab": {
          "base_uri": "https://localhost:8080/"
        },
        "id": "ftIHd7vuAv_L",
        "outputId": "46ef0080-035f-4445-dc47-aa583c6f9fee"
      },
      "execution_count": null,
      "outputs": [
        {
          "output_type": "execute_result",
          "data": {
            "text/plain": [
              "array([[3, 2, 5, ..., 9, 8, 3],\n",
              "       [5, 5, 6, ..., 4, 1, 0],\n",
              "       [6, 0, 2, ..., 7, 8, 2],\n",
              "       ...,\n",
              "       [2, 7, 4, ..., 1, 6, 9],\n",
              "       [0, 2, 1, ..., 2, 2, 1],\n",
              "       [7, 0, 2, ..., 0, 6, 0]])"
            ]
          },
          "metadata": {},
          "execution_count": 192
        }
      ]
    },
    {
      "cell_type": "code",
      "source": [
        "rr_mean = np.mean(rr[:,:1])\n",
        "rr_mean"
      ],
      "metadata": {
        "colab": {
          "base_uri": "https://localhost:8080/"
        },
        "id": "uRrSxKW1AyA1",
        "outputId": "6ec88be3-3f59-42d3-c4dc-8f2addbffb40"
      },
      "execution_count": null,
      "outputs": [
        {
          "output_type": "execute_result",
          "data": {
            "text/plain": [
              "4.5013"
            ]
          },
          "metadata": {},
          "execution_count": 193
        }
      ]
    },
    {
      "cell_type": "code",
      "source": [
        "temp = np.full((1,10000), rr_mean)\n",
        "new_rr = np.c_[rr,temp.T]\n",
        "new_rr"
      ],
      "metadata": {
        "colab": {
          "base_uri": "https://localhost:8080/"
        },
        "id": "gSuUexCMAzAu",
        "outputId": "850eed7c-e0ba-4a56-c759-5859c2ee6fd9"
      },
      "execution_count": null,
      "outputs": [
        {
          "output_type": "execute_result",
          "data": {
            "text/plain": [
              "array([[3.    , 2.    , 5.    , ..., 8.    , 3.    , 4.5013],\n",
              "       [5.    , 5.    , 6.    , ..., 1.    , 0.    , 4.5013],\n",
              "       [6.    , 0.    , 2.    , ..., 8.    , 2.    , 4.5013],\n",
              "       ...,\n",
              "       [2.    , 7.    , 4.    , ..., 6.    , 9.    , 4.5013],\n",
              "       [0.    , 2.    , 1.    , ..., 2.    , 1.    , 4.5013],\n",
              "       [7.    , 0.    , 2.    , ..., 6.    , 0.    , 4.5013]])"
            ]
          },
          "metadata": {},
          "execution_count": 194
        }
      ]
    },
    {
      "cell_type": "code",
      "source": [
        "print(\"--- %s seconds with Numpy (10000) ---\" % (time.time() - start_time))"
      ],
      "metadata": {
        "colab": {
          "base_uri": "https://localhost:8080/"
        },
        "id": "P6nkuK__A0ue",
        "outputId": "a65cc39b-9b77-4f68-896e-9c5817cee575"
      },
      "execution_count": null,
      "outputs": [
        {
          "output_type": "stream",
          "name": "stdout",
          "text": [
            "--- 2.82389760017395 seconds with Numpy (10000) ---\n"
          ]
        }
      ]
    },
    {
      "cell_type": "markdown",
      "source": [
        "\n",
        "\n",
        "---\n",
        "\n",
        "\n",
        "Standart methods - 1000 элементов"
      ],
      "metadata": {
        "id": "cyvmcU5YBCwf"
      }
    },
    {
      "cell_type": "code",
      "source": [
        "import random\n",
        "import math"
      ],
      "metadata": {
        "id": "cW4oHLnVCPGw"
      },
      "execution_count": null,
      "outputs": []
    },
    {
      "cell_type": "code",
      "source": [
        "start_time = time.time()"
      ],
      "metadata": {
        "id": "SSLAYZbBBBig"
      },
      "execution_count": null,
      "outputs": []
    },
    {
      "cell_type": "code",
      "source": [
        "mat = []\n",
        "for i in range(1000):\n",
        "    rowList = []\n",
        "    for j in range(1000):\n",
        "        rowList.append(random.randint(0, 10))\n",
        "    mat.append(rowList)"
      ],
      "metadata": {
        "id": "zmR6ttqEBiZ_"
      },
      "execution_count": null,
      "outputs": []
    },
    {
      "cell_type": "code",
      "source": [
        "mat[999][0]"
      ],
      "metadata": {
        "colab": {
          "base_uri": "https://localhost:8080/"
        },
        "id": "t4mGwAXrDrI2",
        "outputId": "d6e33581-4890-4104-df28-b035a9cb8995"
      },
      "execution_count": null,
      "outputs": [
        {
          "output_type": "execute_result",
          "data": {
            "text/plain": [
              "4"
            ]
          },
          "metadata": {},
          "execution_count": 236
        }
      ]
    },
    {
      "cell_type": "code",
      "source": [
        "s = 0\n",
        "for i in range(1000):\n",
        "    s += mat[i][0]\n",
        "mat_avg = s/1000\n",
        "mat_avg"
      ],
      "metadata": {
        "id": "nzoFdPDVBNhi",
        "colab": {
          "base_uri": "https://localhost:8080/"
        },
        "outputId": "e5661779-26b2-49d9-9792-6d8b5879a991"
      },
      "execution_count": null,
      "outputs": [
        {
          "output_type": "execute_result",
          "data": {
            "text/plain": [
              "5.029"
            ]
          },
          "metadata": {},
          "execution_count": 237
        }
      ]
    },
    {
      "cell_type": "code",
      "source": [
        "temp_mat = []\n",
        "for i in range(1000):\n",
        "    temp_mat.append(mat_avg)\n",
        "temp_mat[999]"
      ],
      "metadata": {
        "colab": {
          "base_uri": "https://localhost:8080/"
        },
        "id": "WxhJFuTCEf0k",
        "outputId": "f8a6e3a3-b03e-4a1a-be35-e994760d56ca"
      },
      "execution_count": null,
      "outputs": [
        {
          "output_type": "execute_result",
          "data": {
            "text/plain": [
              "5.029"
            ]
          },
          "metadata": {},
          "execution_count": 238
        }
      ]
    },
    {
      "cell_type": "code",
      "source": [
        "trans_mat = [[mat[j][i] for j in range(len(mat))] for i in range(len(mat[0]))]\n",
        "trans_mat[0][999]"
      ],
      "metadata": {
        "colab": {
          "base_uri": "https://localhost:8080/"
        },
        "id": "QUJ8xwh5GJ2w",
        "outputId": "b77b4a59-0d50-47a3-ea0e-1808b5b1d7f8"
      },
      "execution_count": null,
      "outputs": [
        {
          "output_type": "execute_result",
          "data": {
            "text/plain": [
              "4"
            ]
          },
          "metadata": {},
          "execution_count": 239
        }
      ]
    },
    {
      "cell_type": "code",
      "source": [
        "trans_mat.append(temp_mat)"
      ],
      "metadata": {
        "id": "iz8d8c9lHCwN"
      },
      "execution_count": null,
      "outputs": []
    },
    {
      "cell_type": "code",
      "source": [
        "len(trans_mat)"
      ],
      "metadata": {
        "colab": {
          "base_uri": "https://localhost:8080/"
        },
        "id": "sLl1TTH8Haul",
        "outputId": "5082fd8c-3309-4e47-c9fe-95bdd0e38e87"
      },
      "execution_count": null,
      "outputs": [
        {
          "output_type": "execute_result",
          "data": {
            "text/plain": [
              "1001"
            ]
          },
          "metadata": {},
          "execution_count": 241
        }
      ]
    },
    {
      "cell_type": "code",
      "source": [
        "len(trans_mat[0])"
      ],
      "metadata": {
        "colab": {
          "base_uri": "https://localhost:8080/"
        },
        "id": "ojDDn9k4HbPY",
        "outputId": "40557413-a14f-4af7-9a7e-b62ee7603058"
      },
      "execution_count": null,
      "outputs": [
        {
          "output_type": "execute_result",
          "data": {
            "text/plain": [
              "1000"
            ]
          },
          "metadata": {},
          "execution_count": 242
        }
      ]
    },
    {
      "cell_type": "code",
      "source": [
        "new_mat = [[trans_mat[j][i] for j in range(len(trans_mat))] for i in range(len(trans_mat[0]))]"
      ],
      "metadata": {
        "id": "5dWzDiBaHS54"
      },
      "execution_count": null,
      "outputs": []
    },
    {
      "cell_type": "code",
      "source": [
        "len(new_mat)"
      ],
      "metadata": {
        "colab": {
          "base_uri": "https://localhost:8080/"
        },
        "id": "GHaQvIDeHeHk",
        "outputId": "9e2c3251-1502-4cbc-eb3a-b184ea5f05a6"
      },
      "execution_count": null,
      "outputs": [
        {
          "output_type": "execute_result",
          "data": {
            "text/plain": [
              "1000"
            ]
          },
          "metadata": {},
          "execution_count": 244
        }
      ]
    },
    {
      "cell_type": "code",
      "source": [
        "len(new_mat[0])"
      ],
      "metadata": {
        "colab": {
          "base_uri": "https://localhost:8080/"
        },
        "id": "YLmdv7RLHhDH",
        "outputId": "43b7e833-cbb5-43f5-ac15-954c26b2e319"
      },
      "execution_count": null,
      "outputs": [
        {
          "output_type": "execute_result",
          "data": {
            "text/plain": [
              "1001"
            ]
          },
          "metadata": {},
          "execution_count": 245
        }
      ]
    },
    {
      "cell_type": "code",
      "source": [
        "new_mat[0][1000]"
      ],
      "metadata": {
        "colab": {
          "base_uri": "https://localhost:8080/"
        },
        "id": "XMjqD49_Hico",
        "outputId": "66889df6-a9a9-4f33-c7b7-0367bcbe5c6c"
      },
      "execution_count": null,
      "outputs": [
        {
          "output_type": "execute_result",
          "data": {
            "text/plain": [
              "5.029"
            ]
          },
          "metadata": {},
          "execution_count": 246
        }
      ]
    },
    {
      "cell_type": "code",
      "source": [
        "print(\"--- %s seconds with standart methods (1000) ---\" % (time.time() - start_time))"
      ],
      "metadata": {
        "id": "FEveqk_IBPzn",
        "colab": {
          "base_uri": "https://localhost:8080/"
        },
        "outputId": "7a62d286-4767-4e0c-c6ec-0a9d5f9d9443"
      },
      "execution_count": null,
      "outputs": [
        {
          "output_type": "stream",
          "name": "stdout",
          "text": [
            "--- 2.3507156372070312 seconds with standart methods (1000) ---\n"
          ]
        }
      ]
    },
    {
      "cell_type": "markdown",
      "source": [
        "\n",
        "\n",
        "---\n",
        "\n",
        "\n",
        "Standart methods - 10000 элементов (очень долго, решила даже не ждать)"
      ],
      "metadata": {
        "id": "tp1gnoHHHx8B"
      }
    },
    {
      "cell_type": "code",
      "source": [
        "start_time = time.time()"
      ],
      "metadata": {
        "id": "njahmxlEH0iR"
      },
      "execution_count": null,
      "outputs": []
    },
    {
      "cell_type": "code",
      "source": [
        "mat = []\n",
        "for i in range(10000):\n",
        "    rowList = []\n",
        "    for j in range(10000):\n",
        "        rowList.append(random.randint(0, 10))\n",
        "    mat.append(rowList)"
      ],
      "metadata": {
        "id": "1dw5FVBJIaW7"
      },
      "execution_count": null,
      "outputs": []
    },
    {
      "cell_type": "code",
      "source": [
        "s = 0\n",
        "for i in range(10000):\n",
        "    s += mat[i][0]\n",
        "mat_avg = s/10000\n",
        "mat_avg"
      ],
      "metadata": {
        "id": "5GVDU5hbIc5S"
      },
      "execution_count": null,
      "outputs": []
    },
    {
      "cell_type": "code",
      "source": [
        "temp_mat = []\n",
        "for i in range(10000):\n",
        "    temp_mat.append(mat_avg)"
      ],
      "metadata": {
        "id": "MkHa11PPH9Iz"
      },
      "execution_count": null,
      "outputs": []
    },
    {
      "cell_type": "code",
      "source": [
        "trans_mat = [[mat[j][i] for j in range(len(mat))] for i in range(len(mat[0]))]"
      ],
      "metadata": {
        "id": "RqlURkyKH_Fu"
      },
      "execution_count": null,
      "outputs": []
    },
    {
      "cell_type": "code",
      "source": [
        "trans_mat.append(temp_mat)"
      ],
      "metadata": {
        "id": "vPK08BEfIBsM"
      },
      "execution_count": null,
      "outputs": []
    },
    {
      "cell_type": "code",
      "source": [
        "len(trans_mat)"
      ],
      "metadata": {
        "id": "-OabiJ-bIB_v"
      },
      "execution_count": null,
      "outputs": []
    },
    {
      "cell_type": "code",
      "source": [
        "len(trans_mat[0])"
      ],
      "metadata": {
        "id": "K4d83Fb1IE6a"
      },
      "execution_count": null,
      "outputs": []
    },
    {
      "cell_type": "code",
      "source": [
        "new_mat = [[trans_mat[j][i] for j in range(len(trans_mat))] for i in range(len(trans_mat[0]))]"
      ],
      "metadata": {
        "id": "JE-Bx34BIGRS"
      },
      "execution_count": null,
      "outputs": []
    },
    {
      "cell_type": "code",
      "source": [
        "len(new_mat)"
      ],
      "metadata": {
        "id": "4iOhe24RIHNf"
      },
      "execution_count": null,
      "outputs": []
    },
    {
      "cell_type": "code",
      "source": [
        "len(new_mat[0])"
      ],
      "metadata": {
        "id": "X8IrHKNSIIAC"
      },
      "execution_count": null,
      "outputs": []
    },
    {
      "cell_type": "code",
      "source": [
        "new_mat[0][10000]"
      ],
      "metadata": {
        "id": "55BjvPS7IIuv"
      },
      "execution_count": null,
      "outputs": []
    },
    {
      "cell_type": "code",
      "source": [
        "print(\"--- %s seconds with standart methods (10000) ---\" % (time.time() - start_time))"
      ],
      "metadata": {
        "id": "fCSud05vIKPk"
      },
      "execution_count": null,
      "outputs": []
    },
    {
      "cell_type": "markdown",
      "source": [
        "*(После решения этого задания я осознала, что надо было делать не все подряд, но было уже поздно........ Так что оставлю их)*"
      ],
      "metadata": {
        "id": "i0mHWG0N6tkk"
      }
    },
    {
      "cell_type": "markdown",
      "source": [
        "\n",
        "\n",
        "---\n",
        "\n",
        "**Сортировка.** Определите произвольный двумерный массив.\n"
      ],
      "metadata": {
        "id": "bHwAgKcuIqV_"
      }
    },
    {
      "cell_type": "code",
      "source": [
        "m = np.array([[3,1,2], [7,8,3]])\n",
        "m"
      ],
      "metadata": {
        "colab": {
          "base_uri": "https://localhost:8080/"
        },
        "id": "VkkTqPKvJCEL",
        "outputId": "8f23449e-584f-4afc-a885-a8b3dea9d741"
      },
      "execution_count": null,
      "outputs": [
        {
          "output_type": "execute_result",
          "data": {
            "text/plain": [
              "array([[3, 1, 2],\n",
              "       [7, 8, 3]])"
            ]
          },
          "metadata": {},
          "execution_count": 254
        }
      ]
    },
    {
      "cell_type": "code",
      "source": [
        "# 36.Отсортируйте в матрице строки\n",
        "np.sort(m)"
      ],
      "metadata": {
        "colab": {
          "base_uri": "https://localhost:8080/"
        },
        "id": "R2y8NpE8IlL9",
        "outputId": "0776fbbe-3d97-4dbf-ebe2-01f8401c65a1"
      },
      "execution_count": null,
      "outputs": [
        {
          "output_type": "execute_result",
          "data": {
            "text/plain": [
              "array([[1, 2, 3],\n",
              "       [3, 7, 8]])"
            ]
          },
          "metadata": {},
          "execution_count": 255
        }
      ]
    },
    {
      "cell_type": "markdown",
      "source": [
        "\n",
        "\n",
        "---\n",
        "\n",
        "\n",
        "**Сохранение в файл и загрузка из файла**"
      ],
      "metadata": {
        "id": "B89u4lBUJnMo"
      }
    },
    {
      "cell_type": "code",
      "source": [
        "# 42.Сохраните  массив  в  текстовый  файл  (np.savetxt)  и  прочитайте  его  из  файла (np.loadtxt)\n",
        "np.savetxt('save_array.txt', m)\n",
        "np.loadtxt('save_array.txt')"
      ],
      "metadata": {
        "colab": {
          "base_uri": "https://localhost:8080/"
        },
        "id": "K83xOGx5JN8z",
        "outputId": "06d86631-8994-46d8-dde4-2819cfe1d77b"
      },
      "execution_count": null,
      "outputs": [
        {
          "output_type": "execute_result",
          "data": {
            "text/plain": [
              "array([[3., 1., 2.],\n",
              "       [7., 8., 3.]])"
            ]
          },
          "metadata": {},
          "execution_count": 256
        }
      ]
    }
  ]
}