{
  "nbformat": 4,
  "nbformat_minor": 0,
  "metadata": {
    "colab": {
      "provenance": [],
      "collapsed_sections": [],
      "authorship_tag": "ABX9TyMwpi7Z3jfqMr22rEDYOmYV",
      "include_colab_link": true
    },
    "kernelspec": {
      "name": "python3",
      "display_name": "Python 3"
    },
    "language_info": {
      "name": "python"
    }
  },
  "cells": [
    {
      "cell_type": "markdown",
      "metadata": {
        "id": "view-in-github",
        "colab_type": "text"
      },
      "source": [
        "<a href=\"https://colab.research.google.com/github/kadobkina/Python_sfedu/blob/master/py_%D0%B7%D0%B0%D0%BD%D1%8F%D1%82%D0%B8%D0%B51.ipynb\" target=\"_parent\"><img src=\"https://colab.research.google.com/assets/colab-badge.svg\" alt=\"Open In Colab\"/></a>"
      ]
    },
    {
      "cell_type": "code",
      "source": [
        "import math\n",
        "import random as rand"
      ],
      "metadata": {
        "id": "g4odUXIqCu9A"
      },
      "execution_count": null,
      "outputs": []
    },
    {
      "cell_type": "code",
      "execution_count": null,
      "metadata": {
        "colab": {
          "base_uri": "https://localhost:8080/"
        },
        "id": "f2HEPcCO_gGz",
        "outputId": "7968b23e-3935-4d0d-b767-b2414d9d6776"
      },
      "outputs": [
        {
          "output_type": "stream",
          "name": "stdout",
          "text": [
            "Введите трехзначное натуральное число\n",
            "253\n",
            "Сумма цифр числа 253 = 10\n"
          ]
        }
      ],
      "source": [
        "#1\n",
        "print('Введите трехзначное натуральное число')\n",
        "n = int(input())\n",
        "if len(str(n)) == 3 and n/100>=1 :\n",
        "    sum = n%10 + n//10%10 + n//100%10\n",
        "    print(f'Сумма цифр числа {n} = {sum}')"
      ]
    },
    {
      "cell_type": "code",
      "source": [
        "#2a\n",
        "a = int(input())\n",
        "b = int(input())\n",
        "c = int(input())\n",
        "y = -((b+math.sqrt(b**2-4*a*c))/2*a)\n",
        "print(f'y = {y}')"
      ],
      "metadata": {
        "colab": {
          "base_uri": "https://localhost:8080/"
        },
        "id": "HJYOVhwd__b1",
        "outputId": "8970f650-95de-4886-a7e6-c45ed1d282f4"
      },
      "execution_count": null,
      "outputs": [
        {
          "output_type": "stream",
          "name": "stdout",
          "text": [
            "1\n",
            "4\n",
            "3\n",
            "y = -3.0\n"
          ]
        }
      ]
    },
    {
      "cell_type": "code",
      "source": [
        "#2b\n",
        "x = int(input())\n",
        "y = math.sin(x)**2+math.log(abs(1+x))\n",
        "print(f'y = {y}')"
      ],
      "metadata": {
        "colab": {
          "base_uri": "https://localhost:8080/"
        },
        "id": "WTYw_fueCwiK",
        "outputId": "84c9c75e-f5f8-4d23-84ea-05f598fb92b5"
      },
      "execution_count": null,
      "outputs": [
        {
          "output_type": "stream",
          "name": "stdout",
          "text": [
            "2\n",
            "y = 1.925434099099916\n"
          ]
        }
      ]
    },
    {
      "cell_type": "code",
      "source": [
        "#3\n",
        "r = rand.randint(1,10)\n",
        "check=False\n",
        "i=1\n",
        "while(not check and i<4):\n",
        "    print('Угадай число от 1 до 10')\n",
        "    ans = int(input())\n",
        "    if ans == r:\n",
        "         print('Число угадано!')\n",
        "         check = True\n",
        "    elif ans < r:\n",
        "         print(f'Введенное число меньше загаданного. Осталось попыток: {3-i}')\n",
        "    else:\n",
        "         print(f'Введенное число больше загаданного. Осталось попыток: {3-i}')\n",
        "    i+=1\n",
        "if(not check):\n",
        "     print(f'Вы так и не угадали :( \\nЗагаданное число - {r}')"
      ],
      "metadata": {
        "colab": {
          "base_uri": "https://localhost:8080/"
        },
        "id": "wVCs7AjfDfOI",
        "outputId": "1c6e5cac-8c53-4473-f84b-7d9560d55da2"
      },
      "execution_count": null,
      "outputs": [
        {
          "output_type": "stream",
          "name": "stdout",
          "text": [
            "Угадай число от 1 до 10\n",
            "5\n",
            "Введенное число меньше загаданного. Осталось попыток: 2\n",
            "Угадай число от 1 до 10\n",
            "7\n",
            "Введенное число меньше загаданного. Осталось попыток: 1\n",
            "Угадай число от 1 до 10\n",
            "8\n",
            "Введенное число меньше загаданного. Осталось попыток: 0\n",
            "Вы так и не угадали :( \n",
            "Загаданное число - 10\n"
          ]
        }
      ]
    },
    {
      "cell_type": "code",
      "source": [
        "#4\n",
        "print('Введите натуральное число')\n",
        "n = int(input())\n",
        "ans = n\n",
        "check = False\n",
        "while(not check and n > 0):\n",
        "     if n%10 in range(4):\n",
        "         print(f'В числе {ans} есть цифра от 0 до 5')\n",
        "         check = True\n",
        "     n//=10\n",
        "if (not check):\n",
        "    print(f'В числе {ans} нет цифр от 0 до 5')"
      ],
      "metadata": {
        "colab": {
          "base_uri": "https://localhost:8080/"
        },
        "id": "xWAfBRZwEJIh",
        "outputId": "9f6d51ed-f778-4f2c-bb3f-0dccee360a0f"
      },
      "execution_count": null,
      "outputs": [
        {
          "output_type": "stream",
          "name": "stdout",
          "text": [
            "Введите натуральное число\n",
            "7868056\n",
            "В числе 7868056 есть цифра от 0 до 5\n"
          ]
        }
      ]
    },
    {
      "cell_type": "code",
      "source": [
        "#5\n",
        "n = 1000\n",
        "cnt = 0\n",
        "while n<10000:\n",
        "    if '0' in str(n):\n",
        "        cnt +=1\n",
        "    n = int(n)+ 1\n",
        "print(f'Количество четырехзначных натуральных чисел с цифрой 0 = {cnt}')"
      ],
      "metadata": {
        "colab": {
          "base_uri": "https://localhost:8080/"
        },
        "id": "9sRNQFF-NN9b",
        "outputId": "3041330e-df69-4f87-fe48-38795fe8c709"
      },
      "execution_count": null,
      "outputs": [
        {
          "output_type": "stream",
          "name": "stdout",
          "text": [
            "Количество четырехзначных натуральных чисел с цифрой 0 = 2439\n"
          ]
        }
      ]
    },
    {
      "cell_type": "code",
      "source": [
        "#6\n",
        "def sum_mult(a=2,b=3,c=4):\n",
        "     sum = a+b+c\n",
        "     mult = a*b*c\n",
        "     return (sum,mult)"
      ],
      "metadata": {
        "id": "2QUxmBdQJZO2"
      },
      "execution_count": null,
      "outputs": []
    },
    {
      "cell_type": "code",
      "source": [
        "#6\n",
        "sum_mult(1,2,1)"
      ],
      "metadata": {
        "colab": {
          "base_uri": "https://localhost:8080/"
        },
        "id": "ZA-DZOxjLOqZ",
        "outputId": "62cb1fbd-b82d-4aeb-845e-c826220ec4eb"
      },
      "execution_count": null,
      "outputs": [
        {
          "output_type": "execute_result",
          "data": {
            "text/plain": [
              "(4, 2)"
            ]
          },
          "metadata": {},
          "execution_count": 13
        }
      ]
    },
    {
      "cell_type": "code",
      "source": [
        "#6\n",
        "sum_mult()"
      ],
      "metadata": {
        "colab": {
          "base_uri": "https://localhost:8080/"
        },
        "id": "dQC3vBZyLP0W",
        "outputId": "83ac9bd3-954d-46d6-c882-657d5348485f"
      },
      "execution_count": null,
      "outputs": [
        {
          "output_type": "execute_result",
          "data": {
            "text/plain": [
              "(9, 24)"
            ]
          },
          "metadata": {},
          "execution_count": 14
        }
      ]
    },
    {
      "cell_type": "code",
      "source": [
        "#6\n",
        "a = 2\n",
        "b = 2\n",
        "c = 2\n",
        "sum_mult(a,b,c)"
      ],
      "metadata": {
        "colab": {
          "base_uri": "https://localhost:8080/"
        },
        "id": "irkSPd9KKrwB",
        "outputId": "0a3e008b-344e-4587-87f0-8bddb2589f24"
      },
      "execution_count": null,
      "outputs": [
        {
          "output_type": "execute_result",
          "data": {
            "text/plain": [
              "(6, 8)"
            ]
          },
          "metadata": {},
          "execution_count": 15
        }
      ]
    },
    {
      "cell_type": "code",
      "source": [
        "#7\n",
        "st = '12345'\n",
        "print(f'Исходная строка: {st}')\n",
        "print(f'Измененная строка: {st[:0:-1]}')"
      ],
      "metadata": {
        "colab": {
          "base_uri": "https://localhost:8080/"
        },
        "id": "Vd-j195lLaGn",
        "outputId": "a41cf4a5-447b-4d5a-cbde-2eeb98d1a510"
      },
      "execution_count": null,
      "outputs": [
        {
          "output_type": "stream",
          "name": "stdout",
          "text": [
            "Исходная строка: 12345\n",
            "Измененная строка: 5432\n"
          ]
        }
      ]
    },
    {
      "cell_type": "code",
      "source": [
        "#8\n",
        "st = 'Hello, World!\\nI am\\t\"Python\".'\n",
        "print(f'Исходная строка:\\n{st}')\n",
        "st = st.replace('\\n', ' ')\n",
        "st = st.replace('\\t', ' ')\n",
        "st = st.translate({ord(i): None for i in \"\"\"'\",.:;!?`\"\"\"})\n",
        "print(f'\\nИзмененная строка: \\n{st}')"
      ],
      "metadata": {
        "id": "KU-U9EoiLw_8",
        "colab": {
          "base_uri": "https://localhost:8080/"
        },
        "outputId": "771a7c0d-4ea8-49da-fda1-0877ccd6bc72"
      },
      "execution_count": null,
      "outputs": [
        {
          "output_type": "stream",
          "name": "stdout",
          "text": [
            "Исходная строка:\n",
            "Hello, World!\n",
            "I am\t\"Python\".\n",
            "\n",
            "Измененная строка: \n",
            "Hello World I am Python\n"
          ]
        }
      ]
    },
    {
      "cell_type": "code",
      "source": [
        "#9\n",
        "l = [1, 2, 5, 3, 4, 5, 3, 1, 5, 0]\n",
        "\n",
        "def remove_max(l):\n",
        "    ll = l.copy()\n",
        "    max_el = max(ll)\n",
        "    while (max_el in ll):\n",
        "        ll.remove(max_el)\n",
        "    return ll\n",
        "\n",
        "new_list = remove_max(l)\n",
        "new_list"
      ],
      "metadata": {
        "colab": {
          "base_uri": "https://localhost:8080/"
        },
        "id": "LxXSsghFUxiq",
        "outputId": "ce6a2bce-9841-44e4-fe5a-213a9d0ed722"
      },
      "execution_count": null,
      "outputs": [
        {
          "output_type": "execute_result",
          "data": {
            "text/plain": [
              "[1, 2, 3, 4, 3, 1, 0]"
            ]
          },
          "metadata": {},
          "execution_count": 44
        }
      ]
    },
    {
      "cell_type": "code",
      "source": [
        "#10\n",
        "l = [2,4,1,3,5]\n",
        "print(f'Исходный список: {l}')\n",
        "l.sort()\n",
        "print(f'Отсортированный по возрастанию список: {l}')\n",
        "l.sort(reverse=True)\n",
        "print(f'Отсортированный по убыванию список: {l}')"
      ],
      "metadata": {
        "colab": {
          "base_uri": "https://localhost:8080/"
        },
        "id": "R6TI75TXbRhf",
        "outputId": "aa55cc75-89f3-407e-f909-0f64d260d47b"
      },
      "execution_count": null,
      "outputs": [
        {
          "output_type": "stream",
          "name": "stdout",
          "text": [
            "Исходный список: [2, 4, 1, 3, 5]\n",
            "Отсортированный по возрастанию список: [1, 2, 3, 4, 5]\n",
            "Отсортированный по убыванию список: [5, 4, 3, 2, 1]\n"
          ]
        }
      ]
    },
    {
      "cell_type": "code",
      "source": [
        "#11\n",
        "new_set = {i for i in range(1,101) if i%3 == 0 or i%7==0}\n",
        "new_set"
      ],
      "metadata": {
        "colab": {
          "base_uri": "https://localhost:8080/"
        },
        "id": "iaYyIqIZdlgw",
        "outputId": "8cdbf510-9a3e-465c-e545-ff9947ab7eb6"
      },
      "execution_count": null,
      "outputs": [
        {
          "output_type": "execute_result",
          "data": {
            "text/plain": [
              "{3,\n",
              " 6,\n",
              " 7,\n",
              " 9,\n",
              " 12,\n",
              " 14,\n",
              " 15,\n",
              " 18,\n",
              " 21,\n",
              " 24,\n",
              " 27,\n",
              " 28,\n",
              " 30,\n",
              " 33,\n",
              " 35,\n",
              " 36,\n",
              " 39,\n",
              " 42,\n",
              " 45,\n",
              " 48,\n",
              " 49,\n",
              " 51,\n",
              " 54,\n",
              " 56,\n",
              " 57,\n",
              " 60,\n",
              " 63,\n",
              " 66,\n",
              " 69,\n",
              " 70,\n",
              " 72,\n",
              " 75,\n",
              " 77,\n",
              " 78,\n",
              " 81,\n",
              " 84,\n",
              " 87,\n",
              " 90,\n",
              " 91,\n",
              " 93,\n",
              " 96,\n",
              " 98,\n",
              " 99}"
            ]
          },
          "metadata": {},
          "execution_count": 54
        }
      ]
    },
    {
      "cell_type": "code",
      "source": [
        "#12\n",
        "st = \"16236311536351167270\"\n",
        "d = {}\n",
        "print(f'Дана строка: {st}\\nЕе символы и их количества:')\n",
        "for ch in st:\n",
        "    if d.get(ch) == None:\n",
        "        d[ch] = 1\n",
        "    else:\n",
        "        d[ch] += 1\n",
        "        \n",
        "for el in d:\n",
        "    print(f\"'{el}' - {d[el]}\")"
      ],
      "metadata": {
        "colab": {
          "base_uri": "https://localhost:8080/"
        },
        "id": "ZMO35ncvexd4",
        "outputId": "3fcdc335-2179-460e-fe89-8e11f4ac1017"
      },
      "execution_count": null,
      "outputs": [
        {
          "output_type": "stream",
          "name": "stdout",
          "text": [
            "Дана строка: 16236311536351167270\n",
            "Ее символы и их количества:\n",
            "'1' - 5\n",
            "'6' - 4\n",
            "'2' - 2\n",
            "'3' - 4\n",
            "'5' - 2\n",
            "'7' - 2\n",
            "'0' - 1\n"
          ]
        }
      ]
    }
  ]
}