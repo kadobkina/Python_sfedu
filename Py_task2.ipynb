{
  "nbformat": 4,
  "nbformat_minor": 0,
  "metadata": {
    "colab": {
      "provenance": [],
      "authorship_tag": "ABX9TyOqpJVz5zOWBHzp1e5jiExZ",
      "include_colab_link": true
    },
    "kernelspec": {
      "name": "python3",
      "display_name": "Python 3"
    },
    "language_info": {
      "name": "python"
    }
  },
  "cells": [
    {
      "cell_type": "markdown",
      "metadata": {
        "id": "view-in-github",
        "colab_type": "text"
      },
      "source": [
        "<a href=\"https://colab.research.google.com/github/kadobkina/Python_sfedu/blob/master/Py_task2.ipynb\" target=\"_parent\"><img src=\"https://colab.research.google.com/assets/colab-badge.svg\" alt=\"Open In Colab\"/></a>"
      ]
    },
    {
      "cell_type": "code",
      "execution_count": 1,
      "metadata": {
        "id": "3Z1cCaKj1lVB"
      },
      "outputs": [],
      "source": [
        "#1 Создайте текстовый файл стандартными средствами работы с файлами Python, \n",
        "# содержащий случайное (не менее 1nи не более 2n) количество случайных це-лых чисел из промежутка [-m,m]. Числа в файле разделены пробелами\n",
        "import random\n",
        "n1 = 5 # min-е количество\n",
        "n2 = 15 # max-е количество\n",
        "m = 10 # отрезок [-m, m]\n",
        "n = random.randint(n1, n2)\n",
        "with open('numbers1.txt', 'w') as f:\n",
        "    for i in range(n):\n",
        "        f.write('%d ' % random.randint(-m, m))"
      ]
    },
    {
      "cell_type": "code",
      "source": [
        "#2 Чтение чисел из файла и вывод их на экран в одну строку.\n",
        "with open('numbers1.txt') as f:\n",
        "    print(f.read())"
      ],
      "metadata": {
        "colab": {
          "base_uri": "https://localhost:8080/"
        },
        "id": "7Oqs34wt1qWZ",
        "outputId": "6d2ae036-f90f-4834-e38c-8cb33d804912"
      },
      "execution_count": 2,
      "outputs": [
        {
          "output_type": "stream",
          "name": "stdout",
          "text": [
            "10 2 -1 8 0 -10 -4 -3 -6 \n"
          ]
        }
      ]
    },
    {
      "cell_type": "code",
      "source": [
        "#3 Прочитать числа из файлаи сохранить их в список. \n",
        "with open('numbers1.txt') as f:\n",
        "    L = [] # список для чисел из файла\n",
        "    L += map(int, f.readline().split()) # переводим в int и добавляем в список:\n",
        "    print(L)"
      ],
      "metadata": {
        "colab": {
          "base_uri": "https://localhost:8080/"
        },
        "id": "wp9LkPCA1xGi",
        "outputId": "09707038-200c-4d7a-c700-9053be2d91cb"
      },
      "execution_count": 3,
      "outputs": [
        {
          "output_type": "stream",
          "name": "stdout",
          "text": [
            "[10, 2, -1, 8, 0, -10, -4, -3, -6]\n"
          ]
        }
      ]
    },
    {
      "cell_type": "code",
      "source": [
        "#4 Создайте новый каталог.Создайте в этом каталоге файл\n",
        "import os\n",
        "new_dir = os.getcwd()+r'/new_folder'\n",
        "os.mkdir(new_dir)\n",
        "f = open('new_folder/numbers2.txt', 'x')\n",
        "f.close()"
      ],
      "metadata": {
        "id": "-cuwKWGQ1yHk"
      },
      "execution_count": 4,
      "outputs": []
    },
    {
      "cell_type": "code",
      "source": [
        "#5 Переименуйте существующий файл.Проверьте существование файла.\n",
        "os.rename('new_folder/numbers2.txt', 'new_folder/new_numbers2.txt')"
      ],
      "metadata": {
        "id": "WbW6tvX21zGt"
      },
      "execution_count": 5,
      "outputs": []
    },
    {
      "cell_type": "code",
      "source": [
        "#6 Удалите существующий файл. Проверьте существование файла.\n",
        "os.remove('new_folder/new_numbers2.txt')\n",
        "if os.path.exists('new_folder/new_numbers2.txt'):\n",
        "    print(\"Файл существует\")\n",
        "else:\n",
        "    print(\"Файл не существует\")"
      ],
      "metadata": {
        "colab": {
          "base_uri": "https://localhost:8080/"
        },
        "id": "2inC_rHK10O9",
        "outputId": "fcfa41e2-527c-4657-c4ad-7a37cfbad422"
      },
      "execution_count": 6,
      "outputs": [
        {
          "output_type": "stream",
          "name": "stdout",
          "text": [
            "Файл не существует\n"
          ]
        }
      ]
    },
    {
      "cell_type": "code",
      "source": [
        "#7 Сохранить в файл с помощью модуля Pickleлюбойобъект (например, список, словарь, класс ит.п.).\n",
        "import pickle # подключаем модуль pickle \n",
        "with open('datafile.pkl', 'wb') as f: # открываем файл\n",
        "    # Модуль pickle запишет в файл любой объект:\n",
        "    pickle.dump([6, 3, 4], f) # Список"
      ],
      "metadata": {
        "id": "C4Myz2xP11K-"
      },
      "execution_count": 7,
      "outputs": []
    },
    {
      "cell_type": "code",
      "source": [
        "#8 Прочитать из созданноговышефайлаобъект.\n",
        "with open('datafile.pkl', 'rb') as f:\n",
        "    L = pickle.load(f) # Загружает список\n",
        "    print(L, type(L)) # [6, 3, 4] <class 'list'>"
      ],
      "metadata": {
        "colab": {
          "base_uri": "https://localhost:8080/"
        },
        "id": "GZfVy4Jz12VV",
        "outputId": "51c6d8dc-8402-4169-cdb8-49632fb6b666"
      },
      "execution_count": 8,
      "outputs": [
        {
          "output_type": "stream",
          "name": "stdout",
          "text": [
            "[6, 3, 4] <class 'list'>\n"
          ]
        }
      ]
    },
    {
      "cell_type": "markdown",
      "source": [
        "Составить описание класса для объектов-векторов, задаваемых координатами концов в трехмерном пространстве. Обеспечить операции сложения и вычита-ния векторов с получением нового вектора (суммы или разности), вычисления скалярного произведения двух векторов, длины вектора, косинуса угла между векторами."
      ],
      "metadata": {
        "id": "m0L8Gb_Y2bIQ"
      }
    },
    {
      "cell_type": "code",
      "source": [
        "import math"
      ],
      "metadata": {
        "id": "qpjBv4PT2Yzq"
      },
      "execution_count": 9,
      "outputs": []
    },
    {
      "cell_type": "code",
      "source": [
        "class Vector:\n",
        "    # Определяем конструктор и в нем три поля: \n",
        "    def __init__(self, a=0, b=0, c=0):\n",
        "        self.a = a # первая координата конца\n",
        "        self.b = b # вторая координата конца\n",
        "        self.c = c # третья координата конца\n",
        "        \n",
        "    # Операция '+' (сумма)\n",
        "    def __add__(self, other):\n",
        "        return Vector(self.a + other.a, self.b + other.b, self.c + other.c)\n",
        "    \n",
        "    # Операция '-' (разность)\n",
        "    def __sub__(self, other):\n",
        "        return Vector(self.a - other.a, self.b - other.b, self.c - other.c)\n",
        "    \n",
        "    # Скалярное произведение\n",
        "    def dot(self, other):\n",
        "        return self.a * other.a + self.b * other.b + self.c * other.c\n",
        "    \n",
        "    # Длина вектора\n",
        "    def length(self):\n",
        "        return math.sqrt(self.a * self.a + self.b * self.b + self.c * self.c)\n",
        "    \n",
        "    # Косинус угла между векторами\n",
        "    def cos(self, other):\n",
        "        return Vector.dot(self, other) / (math.sqrt(self.a**2 + self.b**2 + self.c**2) * math.sqrt(other.a**2 + other.b**2 + other.c**2))"
      ],
      "metadata": {
        "id": "fS4EJn1E2Yr8"
      },
      "execution_count": 11,
      "outputs": []
    }
  ]
}